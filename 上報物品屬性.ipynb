{
  "nbformat": 4,
  "nbformat_minor": 0,
  "metadata": {
    "colab": {
      "provenance": [],
      "include_colab_link": true
    },
    "kernelspec": {
      "name": "python3",
      "display_name": "Python 3"
    },
    "language_info": {
      "name": "python"
    }
  },
  "cells": [
    {
      "cell_type": "markdown",
      "metadata": {
        "id": "view-in-github",
        "colab_type": "text"
      },
      "source": [
        "<a href=\"https://colab.research.google.com/github/edetzen/sinopac_demo/blob/main/%E4%B8%8A%E5%A0%B1%E7%89%A9%E5%93%81%E5%B1%AC%E6%80%A7.ipynb\" target=\"_parent\"><img src=\"https://colab.research.google.com/assets/colab-badge.svg\" alt=\"Open In Colab\"/></a>"
      ]
    },
    {
      "cell_type": "code",
      "execution_count": null,
      "metadata": {
        "colab": {
          "base_uri": "https://localhost:8080/"
        },
        "id": "G7PmrSN9UxgI",
        "outputId": "5dec492d-e865-46a0-bc4f-e8f0452b58cb"
      },
      "outputs": [
        {
          "output_type": "stream",
          "name": "stdout",
          "text": [
            "Collecting SensorsAnalyticsSDK\n",
            "  Downloading SensorsAnalyticsSDK-1.11.0-py3-none-any.whl (19 kB)\n",
            "Installing collected packages: SensorsAnalyticsSDK\n",
            "Successfully installed SensorsAnalyticsSDK-1.11.0\n"
          ]
        }
      ],
      "source": [
        "!pip install SensorsAnalyticsSDK\n",
        "\n",
        "import sensorsanalytics\n",
        "import datetime\n",
        "import csv\n",
        "\n",
        "# 神策分析数据接收的 URL\n",
        "SA_SERVER_URL = 'https://cdp.data-di.com/sa?project=taipei_uat'\n",
        "# ma的台北測試環境\n",
        "# 发送数据的超时时间，单位毫秒\n",
        "SA_REQUEST_TIMEOUT = 100000\n",
        "\n",
        "# 初始化 DefaultConsumer\n",
        "consumer = sensorsanalytics.DefaultConsumer(SA_SERVER_URL, SA_REQUEST_TIMEOUT)\n",
        "\n",
        "# 使用 Consumer 来构造 SensorsAnalytics 对象\n",
        "sa = sensorsanalytics.SensorsAnalytics(consumer)"
      ]
    },
    {
      "cell_type": "markdown",
      "source": [
        "# **上報物品屬性**\n",
        "\n",
        "\n"
      ],
      "metadata": {
        "id": "GR-0GG33U6Y_"
      }
    },
    {
      "cell_type": "code",
      "source": [
        "##快速测试\n",
        "item_type = 'fund_test'\n",
        "item_id = '12345'\n",
        "sa.item_set(item_type, item_id, {\"fund_name\":\"test\",\"fund_company\":\"test\",\"one_month\":1,\"three_month\":1,\"six_month\":1,\"one_year\":1,\"three_year\":1,\"five_year\":1,\"ten_year\":1})"
      ],
      "metadata": {
        "id": "XnUTwNGwU1cE"
      },
      "execution_count": null,
      "outputs": []
    },
    {
      "cell_type": "code",
      "source": [
        "distinct_id = 'test'\n",
        "properties = {\n",
        "# 用户 IP 地址\n",
        "'$ip' : '123.123.123.123',\n",
        "# 商品 ID 列表，list<str> 类型的属性\n",
        "#'ProductIdList' : ['123456', '234567', '345678'],\n",
        "# 订单价格\n",
        "#'OrderPaid' : 12.10,\n",
        "}\n",
        "sa.track(distinct_id, '$PlanPopupDisplay', properties, is_login_id=False)"
      ],
      "metadata": {
        "id": "eOgcaJD2a8rE"
      },
      "execution_count": null,
      "outputs": []
    }
  ]
}