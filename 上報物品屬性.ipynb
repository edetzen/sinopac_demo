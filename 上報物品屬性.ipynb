{
  "cells": [
    {
      "cell_type": "markdown",
      "metadata": {
        "colab_type": "text",
        "id": "view-in-github"
      },
      "source": [
        "<a href=\"https://colab.research.google.com/github/edetzen/sinopac_demo/blob/main/%E4%B8%8A%E5%A0%B1%E7%89%A9%E5%93%81%E5%B1%AC%E6%80%A7.ipynb\" target=\"_parent\"><img src=\"https://colab.research.google.com/assets/colab-badge.svg\" alt=\"Open In Colab\"/></a>"
      ]
    },
    {
      "cell_type": "code",
      "execution_count": null,
      "metadata": {
        "colab": {
          "base_uri": "https://localhost:8080/"
        },
        "id": "G7PmrSN9UxgI",
        "outputId": "5dec492d-e865-46a0-bc4f-e8f0452b58cb"
      },
      "outputs": [
        {
          "name": "stdout",
          "output_type": "stream",
          "text": [
            "Collecting SensorsAnalyticsSDK\n",
            "  Downloading SensorsAnalyticsSDK-1.11.0-py3-none-any.whl (19 kB)\n",
            "Installing collected packages: SensorsAnalyticsSDK\n",
            "Successfully installed SensorsAnalyticsSDK-1.11.0\n"
          ]
        }
      ],
      "source": [
        "!pip install SensorsAnalyticsSDK\n",
        "\n",
        "import sensorsanalytics\n",
        "import datetime\n",
        "import csv\n",
        "\n",
        "# 神策分析数据接收的 URL\n",
        "# 此處應填寫行內的數據接收地址\n",
        "SA_SERVER_URL = 'http://10.11.89.76:8106/sa?project=default'\n",
        "\n",
        "# 发送数据的超时时间，单位毫秒\n",
        "SA_REQUEST_TIMEOUT = 100000\n",
        "\n",
        "# 初始化 DefaultConsumer\n",
        "consumer = sensorsanalytics.DefaultConsumer(SA_SERVER_URL, SA_REQUEST_TIMEOUT)\n",
        "\n",
        "# 使用 Consumer 来构造 SensorsAnalytics 对象\n",
        "sa = sensorsanalytics.SensorsAnalytics(consumer)"
      ]
    },
    {
      "cell_type": "markdown",
      "metadata": {
        "id": "GR-0GG33U6Y_"
      },
      "source": [
        "# **上報物品屬性**\n",
        "\n",
        "\n"
      ]
    },
    {
      "cell_type": "code",
      "execution_count": null,
      "metadata": {
        "id": "XnUTwNGwU1cE"
      },
      "outputs": [],
      "source": [
        "##快速测试\n",
        "item_type = 'fund_test'\n",
        "item_id = '12345'\n",
        "sa.item_set(item_type, item_id, {\"fund_name\":\"test\",\"fund_company\":\"test\",\"one_month\":1,\"three_month\":1,\"six_month\":1,\"one_year\":1,\"three_year\":1,\"five_year\":1,\"ten_year\":1})"
      ]
    },
    {
      "cell_type": "code",
      "execution_count": null,
      "metadata": {
        "id": "eOgcaJD2a8rE"
      },
      "outputs": [],
      "source": [
        "distinct_id = 'test'\n",
        "properties = {\n",
        "# 用户 IP 地址\n",
        "'$ip' : '123.123.123.123',\n",
        "# 商品 ID 列表，list<str> 类型的属性\n",
        "#'ProductIdList' : ['123456', '234567', '345678'],\n",
        "# 订单价格\n",
        "#'OrderPaid' : 12.10,\n",
        "}\n",
        "sa.track(distinct_id, '$PlanPopupDisplay', properties, is_login_id=False)"
      ]
    }
  ],
  "metadata": {
    "colab": {
      "include_colab_link": true,
      "provenance": []
    },
    "kernelspec": {
      "display_name": "Python 3",
      "name": "python3"
    },
    "language_info": {
      "name": "python"
    }
  },
  "nbformat": 4,
  "nbformat_minor": 0
}
